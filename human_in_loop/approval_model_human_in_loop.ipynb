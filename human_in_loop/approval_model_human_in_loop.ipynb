{
 "cells": [
  {
   "cell_type": "code",
   "execution_count": null,
   "id": "0d44be31",
   "metadata": {},
   "outputs": [],
   "source": [
    "from typing import TypedDict, Literal\n",
    "import uuid\n",
    "\n",
    "from langgraph.checkpoint.memory import MemorySaver\n",
    "from langgraph.graph import StateGraph, END\n",
    "from langgraph.types import interrupt, Command\n",
    "\n",
    "class State(TypedDict):\n",
    "    llm_output: str\n",
    "    decison : str\n",
    "\n",
    "    \n",
    "# Simulate an LLM output node\n",
    "def llm_call_stimualtion(state: State) -> State:\n",
    "    return {\"llm_output\": \"This is generated output.\"}\n",
    "\n",
    "# Human aporoval node\n",
    "\n",
    "def human_approval_node(state: State) -> Command[Literal[\"approved_node\", \"rejected_node\", \"ended_node\"]]:\n",
    "    decision = interrupt(\n",
    "        {\n",
    "             \"question\": \"Do you approve the following output?\",\n",
    "             \"llm_output\": state[\"llm_output\"]\n",
    "        }\n",
    "    )\n",
    "    if decision == 'approve':\n",
    "        return Command(goto=\"approved_node\", update={\"decision\": \"approved\"})\n",
    "    elif decision == 'reject':\n",
    "        return Command(goto=\"rejected_node\", update={\"decision\": \"rejected\"})\n",
    "    else :\n",
    "        print (\"This is the end of node\")\n",
    "        return Command(goto=END, update={\"decision\": \"ended\"})\n",
    "\n",
    "# Next steps after approval\n",
    "\n",
    "def approved_node(state: State) -> State:\n",
    "    print(\"Approved path taken.\")\n",
    "    return state\n",
    "\n",
    "def rejected_node(state: State) -> State:\n",
    "    print(\"Rejected path taken. \")\n",
    "    return state\n",
    "\n",
    "# def ended_node(state: State):\n",
    "#     print (\"This is end node\")\n",
    "#     # return (Command(goto=END, update={\"decision\": \"\"}))\n",
    "#     return END\n",
    "\n",
    "graph_builder = StateGraph(State)\n",
    "graph_builder.add_node(\"llm_call_stimualtion\", llm_call_stimualtion)\n",
    "graph_builder.add_node(\"human_approval_node\", human_approval_node)\n",
    "graph_builder.add_node(\"approved_node\", approved_node)\n",
    "graph_builder.add_node(\"rejected_node\", rejected_node)\n",
    "\n",
    "graph_builder.set_entry_point(\"llm_call_stimualtion\")\n",
    "graph_builder.add_edge(\"llm_call_stimualtion\", \"human_approval_node\")\n",
    "graph_builder.add_edge(\"approved_node\", \"human_approval_node\" )\n",
    "graph_builder.add_edge(\"rejected_node\", \"human_approval_node\" )\n",
    "\n",
    "memory = MemorySaver()\n",
    "graph = graph_builder.compile(checkpointer = memory)\n",
    "\n",
    "#pass a thread ID to the graph to run it.\n",
    "config = {\"configurable\": {\"thread_id\":uuid.uuid4()}}\n",
    "result = graph.invoke({},  config=config)\n",
    "print(result[\"__interrupt__\"])\n",
    "\n",
    "\n",
    "final_result = graph.invoke(Command(resume=\"approve\"), config=config)\n",
    "# print(graph.invoke(Command(resume=\"Edited Text\"), config=config))\n",
    "print(final_result)\n",
    "\n"
   ]
  },
  {
   "cell_type": "code",
   "execution_count": null,
   "id": "4d7f42e3",
   "metadata": {},
   "outputs": [],
   "source": [
    "final_result = graph.invoke(Command(resume=\"reject\"), config=config)\n",
    "print (final_result)\n"
   ]
  },
  {
   "cell_type": "code",
   "execution_count": null,
   "id": "40230a9f",
   "metadata": {},
   "outputs": [],
   "source": [
    "final_result = graph.invoke(Command(resume=\"approve\"), config=config)\n",
    "print (final_result)"
   ]
  },
  {
   "cell_type": "code",
   "execution_count": null,
   "id": "a054b7c9",
   "metadata": {},
   "outputs": [],
   "source": [
    "final_result = graph.invoke(Command(resume=\"ended\"), config=config)\n",
    "print (final_result)"
   ]
  }
 ],
 "metadata": {
  "kernelspec": {
   "display_name": ".venv",
   "language": "python",
   "name": "python3"
  },
  "language_info": {
   "codemirror_mode": {
    "name": "ipython",
    "version": 3
   },
   "file_extension": ".py",
   "mimetype": "text/x-python",
   "name": "python",
   "nbconvert_exporter": "python",
   "pygments_lexer": "ipython3",
   "version": "3.13.0"
  }
 },
 "nbformat": 4,
 "nbformat_minor": 5
}
