{
 "cells": [
  {
   "cell_type": "code",
   "execution_count": null,
   "id": "29b539ea",
   "metadata": {},
   "outputs": [],
   "source": [
    "import os\n",
    "from dotenv import load_dotenv\n",
    "from langgraph.graph import StateGraph, START, END, add_messages\n",
    "from langgraph.checkpoint.sqlite import SqliteSaver\n",
    "from langgraph.prebuilt import ToolNode\n",
    "\n",
    "from typing import Annotated, TypedDict, List\n",
    "\n",
    "from langchain_community.tools import TavilySearchResults\n",
    "from langchain_groq import ChatGroq\n",
    "from langchain_core.messages import HumanMessage\n",
    "\n",
    "import sqlite3\n",
    "\n",
    "load_dotenv()\n",
    "groq_model = os.getenv(\"groq_model\")\n",
    "\n",
    "class BaseStateClass(TypedDict):\n",
    "    messages: Annotated[List, add_messages]\n",
    "\n",
    "sqlite_conn = sqlite3.connect('review_tool_call.sqlite', check_same_thread=False)\n",
    "memory = SqliteSaver(sqlite_conn)\n",
    "\n",
    "search_tools = TavilySearchResults(max_results = 2)\n",
    "tool = [search_tools]\n",
    "\n",
    "llm = ChatGroq(model = groq_model)\n",
    "llm_with_tools = llm.bind_tools(tools= tool)\n",
    "\n",
    "\n",
    "def model(state: BaseStateClass):\n",
    "    return {\n",
    "        \"messages\": [llm_with_tools.invoke(state[\"messages\"])]\n",
    "    }\n",
    "\n",
    "tools = ToolNode(tools = tool)  \n",
    "\n",
    "def tools_router(state: BaseStateClass):\n",
    "    last_message = state[\"messages\"][-1].content\n",
    "\n",
    "    if(hasattr(last_message, \"tool_calls\") and len(last_message.tool_calls)> 0):\n",
    "        return \"tools\"\n",
    "    else:\n",
    "        return END\n",
    "\n",
    "  \n",
    "graph = StateGraph(BaseStateClass)\n",
    "\n",
    "graph.add_node(\"model\", model)\n",
    "graph.add_node(\"tools\", tools)\n",
    "\n",
    "graph.set_entry_point(\"model\")\n",
    "graph.add_conditional_edges(\"model\", tools_router)\n",
    "graph.add_edge(\"tools\", \"model\")\n",
    "\n",
    "\n",
    "\n",
    " \n",
    "app = graph.compile(checkpointer= memory, interrupt_before=[\"tools\"])\n"
   ]
  },
  {
   "cell_type": "code",
   "execution_count": 13,
   "id": "762dc64a",
   "metadata": {},
   "outputs": [
    {
     "name": "stdout",
     "output_type": "stream",
     "text": [
      "================================\u001b[1m Human Message \u001b[0m=================================\n",
      "\n",
      "What is the current wether in lalitpur\n",
      "==================================\u001b[1m Ai Message \u001b[0m==================================\n",
      "Tool Calls:\n",
      "  tavily_search_results_json (k2m39jakh)\n",
      " Call ID: k2m39jakh\n",
      "  Args:\n",
      "    query: Lalitpur Nepal weather today\n",
      "next state ()\n"
     ]
    }
   ],
   "source": [
    "\n",
    "config = {\"configurable\": {\"thread_id\": \"1\"}}\n",
    "\n",
    "events = app.stream({\n",
    "    \"messages\": [HumanMessage(content=\"What is the current wether in lalitpur\")]\n",
    "}, config= config, stream_mode=\"values\")\n",
    "\n",
    "for event in events:\n",
    "    event[\"messages\"][-1].pretty_print()\n",
    "\n",
    "print(\"next state\", app.get_state(config).next)"
   ]
  },
  {
   "cell_type": "code",
   "execution_count": 3,
   "id": "4574d029",
   "metadata": {},
   "outputs": [
    {
     "name": "stdout",
     "output_type": "stream",
     "text": [
      "==================================\u001b[1m Ai Message \u001b[0m==================================\n",
      "Tool Calls:\n",
      "  tavily_search_results_json (1jcbaray0)\n",
      " Call ID: 1jcbaray0\n",
      "  Args:\n",
      "    query: Lalitpur weather current\n"
     ]
    }
   ],
   "source": [
    "events = app.stream(None, config, stream_mode=\"values\")\n",
    "for event in events:\n",
    "    event[\"messages\"][-1].pretty_print()\n"
   ]
  }
 ],
 "metadata": {
  "kernelspec": {
   "display_name": ".venv",
   "language": "python",
   "name": "python3"
  },
  "language_info": {
   "codemirror_mode": {
    "name": "ipython",
    "version": 3
   },
   "file_extension": ".py",
   "mimetype": "text/x-python",
   "name": "python",
   "nbconvert_exporter": "python",
   "pygments_lexer": "ipython3",
   "version": "3.13.0"
  }
 },
 "nbformat": 4,
 "nbformat_minor": 5
}
