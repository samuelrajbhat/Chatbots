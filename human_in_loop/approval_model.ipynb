{
 "cells": [
  {
   "cell_type": "code",
   "execution_count": 18,
   "id": "29b539ea",
   "metadata": {},
   "outputs": [],
   "source": [
    "import os\n",
    "from dotenv import load_dotenv\n",
    "from langgraph.graph import StateGraph, START, END, add_messages\n",
    "from langgraph.checkpoint.sqlite import SqliteSaver\n",
    "from langgraph.prebuilt import ToolNode\n",
    "\n",
    "from typing import Annotated, TypedDict, List\n",
    "\n",
    "from langchain_community.tools import TavilySearchResults\n",
    "from langchain_groq import ChatGroq\n",
    "from langchain_core.messages import HumanMessage\n",
    "\n",
    "import sqlite3\n",
    "\n",
    "load_dotenv()\n",
    "groq_model = os.getenv(\"groq_model\")\n",
    "\n",
    "class BaseStateClass(TypedDict):\n",
    "    messages: Annotated[List, add_messages]\n",
    "\n",
    "sqlite_conn = sqlite3.connect('approval_review_tool_call.sqlite', check_same_thread=False)\n",
    "memory = SqliteSaver(sqlite_conn)\n",
    "\n",
    "search_tools = TavilySearchResults(max_results = 2)\n",
    "tool = [search_tools]\n",
    "\n",
    "llm = ChatGroq(model = groq_model)\n",
    "llm_with_tools = llm.bind_tools(tools= tool)\n",
    "\n",
    "\n",
    "def model(state: BaseStateClass):\n",
    "    return {\n",
    "        \"messages\": [llm_with_tools.invoke(state[\"messages\"])]\n",
    "    }\n",
    "\n",
    "tools = ToolNode(tools = tool)  \n",
    "\n",
    "def tools_router(state: BaseStateClass):\n",
    "    last_message = state[\"messages\"][-1]\n",
    "\n",
    "    if(hasattr(last_message, \"tool_calls\") and last_message.tool_calls):\n",
    "        return \"tools\"\n",
    "    else:\n",
    "        return END\n",
    "\n",
    "  \n",
    "graph = StateGraph(BaseStateClass)\n",
    "\n",
    "graph.add_node(\"model\", model)\n",
    "graph.add_node(\"tools\", tools)\n",
    "graph.set_entry_point(\"model\")\n",
    "graph.add_conditional_edges(\"model\", tools_router)\n",
    "graph.add_edge(\"tools\", \"model\")\n",
    "app = graph.compile(checkpointer= memory, interrupt_after=[\"tools\"])\n",
    "\n"
   ]
  },
  {
   "cell_type": "code",
   "execution_count": 19,
   "id": "762dc64a",
   "metadata": {},
   "outputs": [
    {
     "name": "stdout",
     "output_type": "stream",
     "text": [
      "================================\u001b[1m Human Message \u001b[0m=================================\n",
      "\n",
      "What is the current wether in lalitpur\n",
      "==================================\u001b[1m Ai Message \u001b[0m==================================\n",
      "Tool Calls:\n",
      "  tavily_search_results_json (ckd8c4q1d)\n",
      " Call ID: ckd8c4q1d\n",
      "  Args:\n",
      "    query: current weather in Lalitpur June 17, 2025\n",
      "=================================\u001b[1m Tool Message \u001b[0m=================================\n",
      "Name: tavily_search_results_json\n",
      "\n",
      "[{\"title\": \"Lalitpur weather in June 2025 - Meteoprog.com\", \"url\": \"https://www.meteoprog.com/weather/Lalitpurin/month/june/\", \"content\": \"Lalitpur (India) weather in June 2025 ☀️ Accurate weather forecast for Lalitpur ... 17 Jun. +38°+29°. 18 Jun. +36°+28°. 19 Jun. +37°+27°. 20 Jun. +38°+29°. 21 Jun.\", \"score\": 0.9293445}, {\"title\": \"Lalitpur, Central Development Region - weather outlook for 17 June ...\", \"url\": \"https://wisemeteo.com/en/country/nepal/region/central-development-region/city/jitpur/date/06-17\", \"content\": \"Lalitpur, Central Development Region - weather forecast for 17 June 2025 · 1 mph SE. Cloud cover (points). 70. 6:00. Rain. 70°. Probability of precipitation. 70%.\", \"score\": 0.91760606}]\n",
      "next state ('model',)\n"
     ]
    }
   ],
   "source": [
    "\n",
    "config = {\"configurable\": {\"thread_id\": \"1\"}}\n",
    "\n",
    "events = app.stream({\n",
    "    \"messages\": [HumanMessage(content=\"What is the current wether in lalitpur\")]\n",
    "}, config= config, stream_mode=\"values\")\n",
    "\n",
    "for event in events:\n",
    "    event[\"messages\"][-1].pretty_print()\n",
    "\n",
    "print(\"next state\", app.get_state(config).next)"
   ]
  },
  {
   "cell_type": "code",
   "execution_count": 20,
   "id": "4574d029",
   "metadata": {},
   "outputs": [
    {
     "name": "stdout",
     "output_type": "stream",
     "text": [
      "=================================\u001b[1m Tool Message \u001b[0m=================================\n",
      "Name: tavily_search_results_json\n",
      "\n",
      "[{\"title\": \"Lalitpur weather in June 2025 - Meteoprog.com\", \"url\": \"https://www.meteoprog.com/weather/Lalitpurin/month/june/\", \"content\": \"Lalitpur (India) weather in June 2025 ☀️ Accurate weather forecast for Lalitpur ... 17 Jun. +38°+29°. 18 Jun. +36°+28°. 19 Jun. +37°+27°. 20 Jun. +38°+29°. 21 Jun.\", \"score\": 0.9293445}, {\"title\": \"Lalitpur, Central Development Region - weather outlook for 17 June ...\", \"url\": \"https://wisemeteo.com/en/country/nepal/region/central-development-region/city/jitpur/date/06-17\", \"content\": \"Lalitpur, Central Development Region - weather forecast for 17 June 2025 · 1 mph SE. Cloud cover (points). 70. 6:00. Rain. 70°. Probability of precipitation. 70%.\", \"score\": 0.91760606}]\n",
      "==================================\u001b[1m Ai Message \u001b[0m==================================\n",
      "\n",
      "The current weather in Lalitpur on June 17, 2025 is expected to be sunny with a high temperature of 38°C (100°F) and a low temperature of 29°C (84°F). However, there is a chance of rain with a 70% probability.\n"
     ]
    }
   ],
   "source": [
    "events = app.stream(None, config, stream_mode=\"values\")\n",
    "for event in events:\n",
    "    event[\"messages\"][-1].pretty_print()\n"
   ]
  },
  {
   "cell_type": "code",
   "execution_count": null,
   "id": "bca63e60",
   "metadata": {},
   "outputs": [
    {
     "name": "stdout",
     "output_type": "stream",
     "text": [
      "current state StateSnapshot(values={'messages': [HumanMessage(content='What is the current wether in lalitpur', additional_kwargs={}, response_metadata={}, id='4a79b5e6-6731-40fc-b0e7-61525e9eb372'), AIMessage(content='', additional_kwargs={'tool_calls': [{'id': '3c4ssf6g8', 'function': {'arguments': '{\"query\":\"current weather in Lalitpur\"}', 'name': 'tavily_search_results_json'}, 'type': 'function'}]}, response_metadata={'token_usage': {'completion_tokens': 23, 'prompt_tokens': 289, 'total_tokens': 312, 'completion_time': 0.030666667, 'prompt_time': 0.017128794, 'queue_time': 0.051909306, 'total_time': 0.047795461}, 'model_name': 'llama-3.1-8b-instant', 'system_fingerprint': 'fp_510c177af0', 'finish_reason': 'tool_calls', 'logprobs': None}, id='run--7735026b-75d4-4d25-a228-78bbe8e7100d-0', tool_calls=[{'name': 'tavily_search_results_json', 'args': {'query': 'current weather in Lalitpur'}, 'id': '3c4ssf6g8', 'type': 'tool_call'}], usage_metadata={'input_tokens': 289, 'output_tokens': 23, 'total_tokens': 312}), ToolMessage(content='[{\"title\": \"Lalitpur Uttar Pradesh India 15 Day Weather Forecast\", \"url\": \"https://m.weatheravenue.com/en/asia/in/uttar-pradesh/lalitpur-weather-15-days.html\", \"content\": \"Tuesday 17 June 2025. Weather Lalitpur Tuesday 17 June 2025: Sunny Temperature. Sunny. Temperature : 41°C 105°F | 29°C 84°F Temperature Felt : 46°C 114°F\", \"score\": 0.94339466}, {\"title\": \"Weather Forecast in Lalitpur City\", \"url\": \"https://meteotrend.com/forecast/in/lalitpur/\", \"content\": \"Tuesday, June 17, 2025 ; 00:01 to 06:00, Thunderstorm +30 · +31 °C The air temperature will go down ; 06:01 to 12:00, Showers +30 · +34 °C The temperature will rise\", \"score\": 0.90791017}]', name='tavily_search_results_json', id='659266c5-6943-4a5f-bac1-fdd78c42c44b', tool_call_id='3c4ssf6g8', artifact={'query': 'current weather in Lalitpur', 'follow_up_questions': None, 'answer': None, 'images': [], 'results': [{'url': 'https://m.weatheravenue.com/en/asia/in/uttar-pradesh/lalitpur-weather-15-days.html', 'title': 'Lalitpur Uttar Pradesh India 15 Day Weather Forecast', 'content': 'Tuesday 17 June 2025. Weather Lalitpur Tuesday 17 June 2025: Sunny Temperature. Sunny. Temperature : 41°C 105°F | 29°C 84°F Temperature Felt : 46°C 114°F', 'score': 0.94339466, 'raw_content': None}, {'url': 'https://meteotrend.com/forecast/in/lalitpur/', 'title': 'Weather Forecast in Lalitpur City', 'content': 'Tuesday, June 17, 2025 ; 00:01 to 06:00, Thunderstorm +30 · +31 °C The air temperature will go down ; 06:01 to 12:00, Showers +30 · +34 °C The temperature will rise', 'score': 0.90791017, 'raw_content': None}], 'response_time': 4.32}), AIMessage(content=\"The current weather in Lalitpur is sunny with a temperature of 41°C (105°F) during the day and 29°C (84°F) at night. However, please note that the weather can change quickly and it's always a good idea to check the latest forecast before making any plans.\", additional_kwargs={}, response_metadata={'token_usage': {'completion_tokens': 62, 'prompt_tokens': 541, 'total_tokens': 603, 'completion_time': 0.088123954, 'prompt_time': 0.032081599, 'queue_time': 0.05044348, 'total_time': 0.120205553}, 'model_name': 'llama-3.1-8b-instant', 'system_fingerprint': 'fp_55d70a61e4', 'finish_reason': 'stop', 'logprobs': None}, id='run--82183d32-3a57-458b-85e8-dad027d2613d-0', usage_metadata={'input_tokens': 541, 'output_tokens': 62, 'total_tokens': 603}), HumanMessage(content='What is the current wether in lalitpur', additional_kwargs={}, response_metadata={}, id='f21437ef-91ad-44a5-8e54-fdbd73584a88'), AIMessage(content='', additional_kwargs={'tool_calls': [{'id': 'ckd8c4q1d', 'function': {'arguments': '{\"query\":\"current weather in Lalitpur June 17, 2025\"}', 'name': 'tavily_search_results_json'}, 'type': 'function'}]}, response_metadata={'token_usage': {'completion_tokens': 30, 'prompt_tokens': 623, 'total_tokens': 653, 'completion_time': 0.04, 'prompt_time': 0.036957958, 'queue_time': 0.051306932, 'total_time': 0.076957958}, 'model_name': 'llama-3.1-8b-instant', 'system_fingerprint': 'fp_510c177af0', 'finish_reason': 'tool_calls', 'logprobs': None}, id='run--79238c9d-988a-48a9-a259-0cc2c7246274-0', tool_calls=[{'name': 'tavily_search_results_json', 'args': {'query': 'current weather in Lalitpur June 17, 2025'}, 'id': 'ckd8c4q1d', 'type': 'tool_call'}], usage_metadata={'input_tokens': 623, 'output_tokens': 30, 'total_tokens': 653}), ToolMessage(content='[{\"title\": \"Lalitpur weather in June 2025 - Meteoprog.com\", \"url\": \"https://www.meteoprog.com/weather/Lalitpurin/month/june/\", \"content\": \"Lalitpur (India) weather in June 2025 ☀️ Accurate weather forecast for Lalitpur ... 17 Jun. +38°+29°. 18 Jun. +36°+28°. 19 Jun. +37°+27°. 20 Jun. +38°+29°. 21 Jun.\", \"score\": 0.9293445}, {\"title\": \"Lalitpur, Central Development Region - weather outlook for 17 June ...\", \"url\": \"https://wisemeteo.com/en/country/nepal/region/central-development-region/city/jitpur/date/06-17\", \"content\": \"Lalitpur, Central Development Region - weather forecast for 17 June 2025 · 1 mph SE. Cloud cover (points). 70. 6:00. Rain. 70°. Probability of precipitation. 70%.\", \"score\": 0.91760606}]', name='tavily_search_results_json', id='05d12799-4427-4c7c-82f3-a53cff01cc4c', tool_call_id='ckd8c4q1d', artifact={'query': 'current weather in Lalitpur June 17, 2025', 'follow_up_questions': None, 'answer': None, 'images': [], 'results': [{'url': 'https://www.meteoprog.com/weather/Lalitpurin/month/june/', 'title': 'Lalitpur weather in June 2025 - Meteoprog.com', 'content': 'Lalitpur (India) weather in June 2025 ☀️ Accurate weather forecast for Lalitpur ... 17 Jun. +38°+29°. 18 Jun. +36°+28°. 19 Jun. +37°+27°. 20 Jun. +38°+29°. 21 Jun.', 'score': 0.9293445, 'raw_content': None}, {'url': 'https://wisemeteo.com/en/country/nepal/region/central-development-region/city/jitpur/date/06-17', 'title': 'Lalitpur, Central Development Region - weather outlook for 17 June ...', 'content': 'Lalitpur, Central Development Region - weather forecast for 17 June 2025 · 1 mph SE. Cloud cover (points). 70. 6:00. Rain. 70°. Probability of precipitation. 70%.', 'score': 0.91760606, 'raw_content': None}], 'response_time': 4.15}), AIMessage(content='The current weather in Lalitpur on June 17, 2025 is expected to be sunny with a high temperature of 38°C (100°F) and a low temperature of 29°C (84°F). However, there is a chance of rain with a 70% probability.', additional_kwargs={}, response_metadata={'token_usage': {'completion_tokens': 60, 'prompt_tokens': 914, 'total_tokens': 974, 'completion_time': 0.08, 'prompt_time': 0.054160755, 'queue_time': 0.054182745, 'total_time': 0.134160755}, 'model_name': 'llama-3.1-8b-instant', 'system_fingerprint': 'fp_55d70a61e4', 'finish_reason': 'stop', 'logprobs': None}, id='run--0f38729c-b8bc-4c83-8d87-bcd68faa272c-0', usage_metadata={'input_tokens': 914, 'output_tokens': 60, 'total_tokens': 974})]}, next=(), config={'configurable': {'thread_id': '1', 'checkpoint_ns': '', 'checkpoint_id': '1f04b5d0-d39d-68c6-8008-61df963ab362'}}, metadata={'source': 'loop', 'writes': {'model': {'messages': [AIMessage(content='The current weather in Lalitpur on June 17, 2025 is expected to be sunny with a high temperature of 38°C (100°F) and a low temperature of 29°C (84°F). However, there is a chance of rain with a 70% probability.', additional_kwargs={}, response_metadata={'token_usage': {'completion_tokens': 60, 'prompt_tokens': 914, 'total_tokens': 974, 'completion_time': 0.08, 'prompt_time': 0.054160755, 'queue_time': 0.054182745, 'total_time': 0.134160755}, 'model_name': 'llama-3.1-8b-instant', 'system_fingerprint': 'fp_55d70a61e4', 'finish_reason': 'stop', 'logprobs': None}, id='run--0f38729c-b8bc-4c83-8d87-bcd68faa272c-0', usage_metadata={'input_tokens': 914, 'output_tokens': 60, 'total_tokens': 974})]}}, 'step': 8, 'parents': {}, 'thread_id': '1'}, created_at='2025-06-17T09:25:47.442178+00:00', parent_config={'configurable': {'thread_id': '1', 'checkpoint_ns': '', 'checkpoint_id': '1f04b5d0-b58d-669e-8007-bdcaa56e77c7'}}, tasks=(), interrupts=())\n",
      "[HumanMessage(content='What is the current wether in lalitpur', additional_kwargs={}, response_metadata={}, id='4a79b5e6-6731-40fc-b0e7-61525e9eb372'),\n",
      " AIMessage(content='', additional_kwargs={'tool_calls': [{'id': '3c4ssf6g8', 'function': {'arguments': '{\"query\":\"current weather in Lalitpur\"}', 'name': 'tavily_search_results_json'}, 'type': 'function'}]}, response_metadata={'token_usage': {'completion_tokens': 23, 'prompt_tokens': 289, 'total_tokens': 312, 'completion_time': 0.030666667, 'prompt_time': 0.017128794, 'queue_time': 0.051909306, 'total_time': 0.047795461}, 'model_name': 'llama-3.1-8b-instant', 'system_fingerprint': 'fp_510c177af0', 'finish_reason': 'tool_calls', 'logprobs': None}, id='run--7735026b-75d4-4d25-a228-78bbe8e7100d-0', tool_calls=[{'name': 'tavily_search_results_json', 'args': {'query': 'current weather in Lalitpur'}, 'id': '3c4ssf6g8', 'type': 'tool_call'}], usage_metadata={'input_tokens': 289, 'output_tokens': 23, 'total_tokens': 312}),\n",
      " ToolMessage(content='[{\"title\": \"Lalitpur Uttar Pradesh India 15 Day Weather Forecast\", \"url\": \"https://m.weatheravenue.com/en/asia/in/uttar-pradesh/lalitpur-weather-15-days.html\", \"content\": \"Tuesday 17 June 2025. Weather Lalitpur Tuesday 17 June 2025: Sunny Temperature. Sunny. Temperature : 41°C 105°F | 29°C 84°F Temperature Felt : 46°C 114°F\", \"score\": 0.94339466}, {\"title\": \"Weather Forecast in Lalitpur City\", \"url\": \"https://meteotrend.com/forecast/in/lalitpur/\", \"content\": \"Tuesday, June 17, 2025 ; 00:01 to 06:00, Thunderstorm +30 · +31 °C The air temperature will go down ; 06:01 to 12:00, Showers +30 · +34 °C The temperature will rise\", \"score\": 0.90791017}]', name='tavily_search_results_json', id='659266c5-6943-4a5f-bac1-fdd78c42c44b', tool_call_id='3c4ssf6g8', artifact={'query': 'current weather in Lalitpur', 'follow_up_questions': None, 'answer': None, 'images': [], 'results': [{'url': 'https://m.weatheravenue.com/en/asia/in/uttar-pradesh/lalitpur-weather-15-days.html', 'title': 'Lalitpur Uttar Pradesh India 15 Day Weather Forecast', 'content': 'Tuesday 17 June 2025. Weather Lalitpur Tuesday 17 June 2025: Sunny Temperature. Sunny. Temperature : 41°C 105°F | 29°C 84°F Temperature Felt : 46°C 114°F', 'score': 0.94339466, 'raw_content': None}, {'url': 'https://meteotrend.com/forecast/in/lalitpur/', 'title': 'Weather Forecast in Lalitpur City', 'content': 'Tuesday, June 17, 2025 ; 00:01 to 06:00, Thunderstorm +30 · +31 °C The air temperature will go down ; 06:01 to 12:00, Showers +30 · +34 °C The temperature will rise', 'score': 0.90791017, 'raw_content': None}], 'response_time': 4.32}),\n",
      " AIMessage(content=\"The current weather in Lalitpur is sunny with a temperature of 41°C (105°F) during the day and 29°C (84°F) at night. However, please note that the weather can change quickly and it's always a good idea to check the latest forecast before making any plans.\", additional_kwargs={}, response_metadata={'token_usage': {'completion_tokens': 62, 'prompt_tokens': 541, 'total_tokens': 603, 'completion_time': 0.088123954, 'prompt_time': 0.032081599, 'queue_time': 0.05044348, 'total_time': 0.120205553}, 'model_name': 'llama-3.1-8b-instant', 'system_fingerprint': 'fp_55d70a61e4', 'finish_reason': 'stop', 'logprobs': None}, id='run--82183d32-3a57-458b-85e8-dad027d2613d-0', usage_metadata={'input_tokens': 541, 'output_tokens': 62, 'total_tokens': 603}),\n",
      " HumanMessage(content='What is the current wether in lalitpur', additional_kwargs={}, response_metadata={}, id='f21437ef-91ad-44a5-8e54-fdbd73584a88'),\n",
      " AIMessage(content='', additional_kwargs={'tool_calls': [{'id': 'ckd8c4q1d', 'function': {'arguments': '{\"query\":\"current weather in Lalitpur June 17, 2025\"}', 'name': 'tavily_search_results_json'}, 'type': 'function'}]}, response_metadata={'token_usage': {'completion_tokens': 30, 'prompt_tokens': 623, 'total_tokens': 653, 'completion_time': 0.04, 'prompt_time': 0.036957958, 'queue_time': 0.051306932, 'total_time': 0.076957958}, 'model_name': 'llama-3.1-8b-instant', 'system_fingerprint': 'fp_510c177af0', 'finish_reason': 'tool_calls', 'logprobs': None}, id='run--79238c9d-988a-48a9-a259-0cc2c7246274-0', tool_calls=[{'name': 'tavily_search_results_json', 'args': {'query': 'current weather in Lalitpur June 17, 2025'}, 'id': 'ckd8c4q1d', 'type': 'tool_call'}], usage_metadata={'input_tokens': 623, 'output_tokens': 30, 'total_tokens': 653}),\n",
      " ToolMessage(content='[{\"title\": \"Lalitpur weather in June 2025 - Meteoprog.com\", \"url\": \"https://www.meteoprog.com/weather/Lalitpurin/month/june/\", \"content\": \"Lalitpur (India) weather in June 2025 ☀️ Accurate weather forecast for Lalitpur ... 17 Jun. +38°+29°. 18 Jun. +36°+28°. 19 Jun. +37°+27°. 20 Jun. +38°+29°. 21 Jun.\", \"score\": 0.9293445}, {\"title\": \"Lalitpur, Central Development Region - weather outlook for 17 June ...\", \"url\": \"https://wisemeteo.com/en/country/nepal/region/central-development-region/city/jitpur/date/06-17\", \"content\": \"Lalitpur, Central Development Region - weather forecast for 17 June 2025 · 1 mph SE. Cloud cover (points). 70. 6:00. Rain. 70°. Probability of precipitation. 70%.\", \"score\": 0.91760606}]', name='tavily_search_results_json', id='05d12799-4427-4c7c-82f3-a53cff01cc4c', tool_call_id='ckd8c4q1d', artifact={'query': 'current weather in Lalitpur June 17, 2025', 'follow_up_questions': None, 'answer': None, 'images': [], 'results': [{'url': 'https://www.meteoprog.com/weather/Lalitpurin/month/june/', 'title': 'Lalitpur weather in June 2025 - Meteoprog.com', 'content': 'Lalitpur (India) weather in June 2025 ☀️ Accurate weather forecast for Lalitpur ... 17 Jun. +38°+29°. 18 Jun. +36°+28°. 19 Jun. +37°+27°. 20 Jun. +38°+29°. 21 Jun.', 'score': 0.9293445, 'raw_content': None}, {'url': 'https://wisemeteo.com/en/country/nepal/region/central-development-region/city/jitpur/date/06-17', 'title': 'Lalitpur, Central Development Region - weather outlook for 17 June ...', 'content': 'Lalitpur, Central Development Region - weather forecast for 17 June 2025 · 1 mph SE. Cloud cover (points). 70. 6:00. Rain. 70°. Probability of precipitation. 70%.', 'score': 0.91760606, 'raw_content': None}], 'response_time': 4.15}),\n",
      " AIMessage(content='The current weather in Lalitpur on June 17, 2025 is expected to be sunny with a high temperature of 38°C (100°F) and a low temperature of 29°C (84°F). However, there is a chance of rain with a 70% probability.', additional_kwargs={}, response_metadata={'token_usage': {'completion_tokens': 60, 'prompt_tokens': 914, 'total_tokens': 974, 'completion_time': 0.08, 'prompt_time': 0.054160755, 'queue_time': 0.054182745, 'total_time': 0.134160755}, 'model_name': 'llama-3.1-8b-instant', 'system_fingerprint': 'fp_55d70a61e4', 'finish_reason': 'stop', 'logprobs': None}, id='run--0f38729c-b8bc-4c83-8d87-bcd68faa272c-0', usage_metadata={'input_tokens': 914, 'output_tokens': 60, 'total_tokens': 974})]\n"
     ]
    }
   ],
   "source": [
    "from pprint import pprint\n",
    "events = app.stream(None, config, stream_mode=\"values\")\n",
    "snapshot = app.get_state(config)\n",
    "print(\"current state\", snapshot.values)\n",
    "for event in events:\n",
    "    pprint(event.get(\"messages\", \"NO messages found\"))"
   ]
  }
 ],
 "metadata": {
  "kernelspec": {
   "display_name": ".venv",
   "language": "python",
   "name": "python3"
  },
  "language_info": {
   "codemirror_mode": {
    "name": "ipython",
    "version": 3
   },
   "file_extension": ".py",
   "mimetype": "text/x-python",
   "name": "python",
   "nbconvert_exporter": "python",
   "pygments_lexer": "ipython3",
   "version": "3.13.0"
  }
 },
 "nbformat": 4,
 "nbformat_minor": 5
}
