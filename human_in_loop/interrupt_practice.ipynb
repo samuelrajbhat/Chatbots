{
 "cells": [
  {
   "cell_type": "code",
   "execution_count": null,
   "id": "d9e6311d",
   "metadata": {},
   "outputs": [],
   "source": [
    "import uuid\n",
    "from typing import Optional\n",
    "from typing_extensions import TypedDict\n",
    "\n",
    "from langgraph.checkpoint.memory import MemorySaver\n",
    "from langgraph.constants import START\n",
    "from langgraph.graph import StateGraph\n",
    "from langgraph.types import interrupt\n",
    "from langgraph.types import Command\n",
    "class State(TypedDict):\n",
    "    foo: str\n",
    "    human_value: Optional[str]\n",
    "    \"\"\"Human value will be updated using an interrupt.\"\"\"\n",
    "\n",
    "def node (state: State):\n",
    "    answer = interrupt(\n",
    "        \"what is your  age?\"\n",
    "    )\n",
    "    print(f\"> Received an input from the interrupt : {answer}\")\n",
    "    return{ \"human_value\": answer}\n",
    "\n",
    "builder = StateGraph(State)\n",
    "builder.add_node(\"node\", node)\n",
    "builder.add_edge(START, \"node\")\n",
    "\n",
    "#A checkpointer must be enabled for interrupts to work!\n",
    "checkpointer = MemorySaver()\n",
    "\n",
    "graph = builder.compile(checkpointer= checkpointer)\n",
    "\n",
    "config= {\n",
    "    \"configurable\" : {\n",
    "        \"thread_id\": uuid.uuid4(),\n",
    "    }\n",
    "}\n",
    "\n",
    "for chunk in graph.stream({\"food\": \"abc\"}, config):\n",
    "    print(chunk)\n"
   ]
  },
  {
   "cell_type": "code",
   "execution_count": null,
   "id": "e5278b51",
   "metadata": {},
   "outputs": [],
   "source": [
    "command = Command(resume=\"some input from users\")\n",
    "for  chunk in graph.stream(Command(resume=\"Some input from users\"), config):\n",
    "    print(chunk)"
   ]
  }
 ],
 "metadata": {
  "kernelspec": {
   "display_name": ".venv",
   "language": "python",
   "name": "python3"
  },
  "language_info": {
   "codemirror_mode": {
    "name": "ipython",
    "version": 3
   },
   "file_extension": ".py",
   "mimetype": "text/x-python",
   "name": "python",
   "nbconvert_exporter": "python",
   "pygments_lexer": "ipython3",
   "version": "3.13.0"
  }
 },
 "nbformat": 4,
 "nbformat_minor": 5
}
